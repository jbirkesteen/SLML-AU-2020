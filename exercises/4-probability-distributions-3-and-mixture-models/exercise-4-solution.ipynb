{
 "cells": [
  {
   "cell_type": "markdown",
   "metadata": {},
   "source": [
    "# Week 4 - Probability Distributions 3 and Mixture Models"
   ]
  },
  {
   "cell_type": "markdown",
   "metadata": {},
   "source": [
    "Learning contents:\n",
    "\n",
    "1. Histogram-based density estimation\n",
    "    - Display histogram densities\n",
    "2. Kernel density estimation\n",
    "    - Hypercube Kernel function\n",
    "    - Gaussian Kernel function\n",
    "3. K-Nearest Neigbours classification\n",
    "    - Generate data\n",
    "    - Classification function\n",
    "    - Display results\n",
    "4. K-Means clustering\n",
    "    - Display results"
   ]
  },
  {
   "cell_type": "markdown",
   "metadata": {},
   "source": [
    "## Dependencies"
   ]
  },
  {
   "cell_type": "code",
   "execution_count": 1,
   "metadata": {},
   "outputs": [],
   "source": [
    "import numpy as np\n",
    "import matplotlib.pyplot as plt\n",
    "from matplotlib.animation import FuncAnimation\n",
    "from math import sqrt\n",
    "from collections import Counter\n",
    "from scipy.stats import norm\n",
    "from sklearn import datasets\n",
    "from IPython.display import HTML\n",
    "\n",
    "import seaborn as sns; sns.set(); sns.set_palette('bright')"
   ]
  },
  {
   "cell_type": "markdown",
   "metadata": {},
   "source": [
    "## Generate data"
   ]
  },
  {
   "cell_type": "code",
   "execution_count": 19,
   "metadata": {},
   "outputs": [
    {
     "data": {
      "text/plain": [
       "[0.24349928089027845,\n",
       " 0.2854813515967872,\n",
       " 0.3522007343888685,\n",
       " 0.5042988903397074,\n",
       " 0.5066165150584643,\n",
       " 0.5116258360182988,\n",
       " 0.535186915795437,\n",
       " 0.5949179513915457,\n",
       " 0.6695618751972675,\n",
       " 0.6709397583317546,\n",
       " 0.681053889634086,\n",
       " 0.6981470105293446,\n",
       " 0.7066883737034834,\n",
       " 0.7092431205052266,\n",
       " 0.7136460945105967,\n",
       " 0.7303618327221014,\n",
       " 0.7419623135147955,\n",
       " 0.7521102754701807,\n",
       " 0.8060706698780128,\n",
       " 0.82954894425276,\n",
       " 0.8386068586073978,\n",
       " 0.8497614866442701,\n",
       " 0.8538923334750576,\n",
       " 0.8595569435823818,\n",
       " 0.9005686482630448,\n",
       " 0.9234829020995636,\n",
       " 0.9472817752677614,\n",
       " 0.9599163750216858,\n",
       " 0.9829553639885514,\n",
       " 1.0091809974241128,\n",
       " 1.0132582263611862,\n",
       " 1.0429957658409967,\n",
       " 1.0487048702316564,\n",
       " 1.060626600234665,\n",
       " 1.0633188187474338,\n",
       " 1.0656734687730527,\n",
       " 1.0662209343978624,\n",
       " 1.0852828769280367,\n",
       " 1.1200461376751796,\n",
       " 1.1248528789403358,\n",
       " 1.1261213119469442,\n",
       " 1.1545659781721305,\n",
       " 1.1621808735332064,\n",
       " 1.167053982333412,\n",
       " 1.187297010322022,\n",
       " 1.1903715202332752,\n",
       " 1.3722300463639,\n",
       " 1.3863165181769808,\n",
       " 1.4852663516958575,\n",
       " 1.7119808091371502]"
      ]
     },
     "execution_count": 19,
     "metadata": {},
     "output_type": "execute_result"
    },
    {
     "data": {
      "image/png": "[encoded data removed]",
      "text/plain": [
       "<Figure size 432x288 with 1 Axes>"
      ]
     },
     "metadata": {},
     "output_type": "display_data"
    }
   ],
   "source": [
    "def generate_data_1D(size, means, variances, pis):\n",
    "    result = 0\n",
    "    \n",
    "    for i, (mean, variance, pi) in enumerate(zip(means, variances, pis)):\n",
    "        result += pi * np.array(norm(mean, sqrt(variance)).rvs(size=size, random_state=26 + i))\n",
    "    \n",
    "    return result\n",
    "    \n",
    "means = [0.4, 2.0]\n",
    "variances = [0.2, 0.1]\n",
    "pis = [0.7, 0.3]\n",
    "data_1D = generate_data_1D(50, means, variances, pis)\n",
    "\n",
    "plt.scatter(data_1D, [0] * len(data_1D), alpha=0.5)\n",
    "sorted(data_1D)"
   ]
  },
  {
   "cell_type": "markdown",
   "metadata": {},
   "source": [
    "## 1) Histogram-based density estimation"
   ]
  },
  {
   "cell_type": "markdown",
   "metadata": {},
   "source": [
    "`histogram` takes `data`, bin size `delta` and returns `bins` (list of bins where `bin = list of points`) and their `probabilities`"
   ]
  },
  {
   "cell_type": "code",
   "execution_count": 45,
   "metadata": {},
   "outputs": [],
   "source": [
    "def histogram(data, delta):\n",
    "    data_sorted = sorted(data_1D)\n",
    "    current_bin_min = data_sorted[0]\n",
    "    next_bin_min = current_bin_min + delta\n",
    "    bins = []\n",
    "    current_bin = []\n",
    "#     for point in data_sorted:\n",
    "#         if point < next_bin_min:\n",
    "#             current_bin.append(point)\n",
    "#         elif current_bin:\n",
    "#             while point >= next_bin_min:\n",
    "#                 next_bin_min += delta\n",
    "#             current_bin.append(point)\n",
    "#         else:\n",
    "#             bins.append(current_bin)\n",
    "#             current_bin = [point]\n",
    "#             next_bin_min += delta\n",
    "    for i in range(len(data_sorted)):\n",
    "        if data_sorted[i] < next_bin_min:\n",
    "            current_bin.append(data_sorted[i])\n",
    "        else:\n",
    "            bins.append(current_bin)\n",
    "            current_bin = [data_sorted[i]]\n",
    "            while data_sorted[i+1] > \n",
    "    N = len(data_sorted)\n",
    "    probabilities = [len(bin_i) / (N*delta) for bin_i in bins]\n",
    "    return bins, probabilities"
   ]
  },
  {
   "cell_type": "code",
   "execution_count": 47,
   "metadata": {},
   "outputs": [],
   "source": [
    "def histogram(data, delta):\n",
    "    data_sorted = sorted(data_1D)\n",
    "    current_bin_min = data_sorted[0]\n",
    "    next_bin_min = current_bin_min + delta\n",
    "    bins = []\n",
    "    current_bin = []\n",
    "    for point in data_sorted:\n",
    "        while point >= next_bin_min:\n",
    "            next_bin_min += delta\n",
    "        if point < next_bin_min:\n",
    "            current_bin.append(point)\n",
    "#         elif current_bin:\n",
    "#             while point >= next_bin_min:\n",
    "#                 next_bin_min += delta\n",
    "#             current_bin.append(point)\n",
    "        else:\n",
    "            bins.append(current_bin)\n",
    "            current_bin = [point]\n",
    "            next_bin_min += delta\n",
    "\n",
    "    N = len(data_sorted)\n",
    "    probabilities = [len(bin_i) / (N*delta) for bin_i in bins]\n",
    "    return bins, probabilities"
   ]
  },
  {
   "cell_type": "code",
   "execution_count": 47,
   "metadata": {},
   "outputs": [],
   "source": [
    "def histogram(data, delta):\n",
    "    data_sorted = sorted(data_1D)\n",
    "    current_bin_min = data_sorted[0]\n",
    "    next_bin_min = current_bin_min + delta\n",
    "    bins = []\n",
    "    current_bin = []\n",
    "    for point in data_sorted:\n",
    "        if point < next_bin_min:\n",
    "            current_bin.append(point)\n",
    "#         elif current_bin:\n",
    "#             while point >= next_bin_min:\n",
    "#                 next_bin_min += delta\n",
    "#             current_bin.append(point)\n",
    "        else:\n",
    "            bins.append(current_bin)\n",
    "            current_bin = [point]\n",
    "            next_bin_min += delta\n",
    "\n",
    "    N = len(data_sorted)\n",
    "    probabilities = [len(bin_i) / (N*delta) for bin_i in bins]\n",
    "    return bins, probabilities"
   ]
  },
  {
   "cell_type": "code",
   "execution_count": 47,
   "metadata": {},
   "outputs": [],
   "source": [
    "def histogram(data, delta):\n",
    "    bin_point = min(data) + delta\n",
    "    bins_dict = {}\n",
    "    while bin_point < max(data):\n",
    "        bins_dict[bin_point] = []\n",
    "        bin_point += delta\n",
    "    data_sorted = sorted(data)\n",
    "    for point in data_sorted:\n",
    "        \n",
    "    probabilities = [len(bin_i) / (N*delta) for bin_i in bins]\n",
    "    return bins, probabilities"
   ]
  },
  {
   "cell_type": "code",
   "execution_count": 47,
   "metadata": {},
   "outputs": [],
   "source": [
    "def histogram(data, delta):\n",
    "    \n",
    "    bin_point = min(data) + delta\n",
    "    bin_points = []\n",
    "    while bin_point < max(data):\n",
    "        bin_points.append(bin_point)\n",
    "        bin_point += delta\n",
    "    data_sorted = sorted(data_1D)\n",
    "    for data_point in data_sorted:\n",
    "        \n",
    "\n",
    "    N = len(data_sorted)\n",
    "    probabilities = [len(bin_i) / (N*delta) for bin_i in bins]\n",
    "    return bins, probabilities"
   ]
  },
  {
   "cell_type": "code",
   "execution_count": 70,
   "metadata": {},
   "outputs": [
    {
     "data": {
      "text/plain": [
       "(array([ 3.,  4.,  4.,  9.,  8., 11.,  7.,  2.,  1.,  1.]),\n",
       " array([0.24349928, 0.39034743, 0.53719559, 0.68404374, 0.83089189,\n",
       "        0.97774005, 1.1245882 , 1.27143635, 1.4182845 , 1.56513266,\n",
       "        1.71198081]),\n",
       " <BarContainer object of 10 artists>)"
      ]
     },
     "execution_count": 70,
     "metadata": {},
     "output_type": "execute_result"
    },
    {
     "data": {
      "image/png": "[encoded data removed]",
      "text/plain": [
       "<Figure size 432x288 with 1 Axes>"
      ]
     },
     "metadata": {},
     "output_type": "display_data"
    }
   ],
   "source": [
    "dicttest = {2.5: [2, 3], 3: [], 3.5: [4, 5]}\n",
    "testbins = []\n",
    "for bin_i in dicttest:\n",
    "    if dicttest[bin_i]:\n",
    "        testbins.append(dicttest[bin_i])\n",
    "#testbins = [dicttest[bin_i] if dicttest[bin_i] else dummy() for bin_i in dicttest]\n",
    "plt.hist(data_1D, density=False)"
   ]
  },
  {
   "cell_type": "markdown",
   "metadata": {},
   "source": [
    "### 1.1) Display histogram densities"
   ]
  },
  {
   "cell_type": "code",
   "execution_count": 48,
   "metadata": {},
   "outputs": [
    {
     "data": {
      "text/plain": [
       "([], [])"
      ]
     },
     "execution_count": 48,
     "metadata": {},
     "output_type": "execute_result"
    }
   ],
   "source": [
    "def display_histogram_density(data, delta):\n",
    "    bins, probabilities = histogram(data, delta)\n",
    "\n",
    "    plt.bar(range(len(bins)), list(map(lambda b: len(b), bins)))\n",
    "    plt.plot(range(len(probabilities)), probabilities, '-r')\n",
    "histogram(data_1D, 0.05)"
   ]
  },
  {
   "cell_type": "code",
   "execution_count": 40,
   "metadata": {},
   "outputs": [
    {
     "data": {
      "image/png": "[encoded data removed]",
      "text/plain": [
       "<Figure size 432x288 with 1 Axes>"
      ]
     },
     "metadata": {},
     "output_type": "display_data"
    }
   ],
   "source": [
    "display_histogram_density(data_1D, 0.05)"
   ]
  },
  {
   "cell_type": "code",
   "execution_count": 13,
   "metadata": {},
   "outputs": [
    {
     "data": {
      "image/png": "[encoded data removed]",
      "text/plain": [
       "<Figure size 432x288 with 1 Axes>"
      ]
     },
     "metadata": {},
     "output_type": "display_data"
    }
   ],
   "source": [
    "display_histogram_density(data_1D, 0.1)"
   ]
  },
  {
   "cell_type": "code",
   "execution_count": null,
   "metadata": {},
   "outputs": [],
   "source": [
    "display_histogram_density(data_1D, 0.2)"
   ]
  },
  {
   "cell_type": "code",
   "execution_count": null,
   "metadata": {},
   "outputs": [],
   "source": [
    "display_histogram_density(data_1D, 0.5)"
   ]
  },
  {
   "cell_type": "markdown",
   "metadata": {},
   "source": [
    "## 2) Kernel density estimation"
   ]
  },
  {
   "cell_type": "markdown",
   "metadata": {},
   "source": [
    "### 2.1) Hypercube Kernel function"
   ]
  },
  {
   "cell_type": "markdown",
   "metadata": {},
   "source": [
    "`hypercube_kernel_function` takes `u` and returns 0 or 1 if `u` is inside 1/2 hypercube"
   ]
  },
  {
   "cell_type": "code",
   "execution_count": null,
   "metadata": {},
   "outputs": [],
   "source": [
    "def hypercube_kernel_function(u):\n",
    "    pass"
   ]
  },
  {
   "cell_type": "markdown",
   "metadata": {},
   "source": [
    "`hypercube_kernel_density` takes any point `x`, data points `data`, size of a cube `h`, amount of dimensions `D` and returns probability density function based on Hypercube kernel function"
   ]
  },
  {
   "cell_type": "code",
   "execution_count": null,
   "metadata": {},
   "outputs": [],
   "source": [
    "def hypercube_kernel_density(x, data, h, D):\n",
    "    pass"
   ]
  },
  {
   "cell_type": "code",
   "execution_count": null,
   "metadata": {},
   "outputs": [],
   "source": [
    "def display_hypercube_kernel_density_1D(data, h, color='b'):\n",
    "    xs = np.linspace(min(data), max(data), 200)\n",
    "    plt.plot(xs, list(map(lambda x: hypercube_kernel_density(x, data, h, 1), xs)), '-' + color, label='h=' + str(h))\n",
    "    plt.legend()"
   ]
  },
  {
   "cell_type": "code",
   "execution_count": null,
   "metadata": {},
   "outputs": [],
   "source": [
    "display_hypercube_kernel_density_1D(data_1D, 0.05, 'b')"
   ]
  },
  {
   "cell_type": "code",
   "execution_count": null,
   "metadata": {},
   "outputs": [],
   "source": [
    "display_hypercube_kernel_density_1D(data_1D, 0.2, 'b')\n",
    "display_hypercube_kernel_density_1D(data_1D, 1, 'g')\n",
    "display_hypercube_kernel_density_1D(data_1D, 2, 'm')"
   ]
  },
  {
   "cell_type": "markdown",
   "metadata": {},
   "source": [
    "### 2.2) Gaussian Kernel function"
   ]
  },
  {
   "cell_type": "markdown",
   "metadata": {},
   "source": [
    "`gaussian_kernel_function` takes pair of points `x` and `x_n`, size `h` and returns Gaussian kernel function for this pair of points"
   ]
  },
  {
   "cell_type": "code",
   "execution_count": null,
   "metadata": {},
   "outputs": [],
   "source": [
    "def gaussian_kernel_function(x, x_n, h):\n",
    "    pass"
   ]
  },
  {
   "cell_type": "markdown",
   "metadata": {},
   "source": [
    "`gaussian_kernel_density` takes any point `x`, data points `data`, size `h` and returns Gaussian kernel density for point `x`"
   ]
  },
  {
   "cell_type": "code",
   "execution_count": null,
   "metadata": {},
   "outputs": [],
   "source": [
    "def gaussian_kernel_density(x, data, h):\n",
    "    pass"
   ]
  },
  {
   "cell_type": "code",
   "execution_count": null,
   "metadata": {},
   "outputs": [],
   "source": [
    "def display_gaussian_kernel_density_1D(data, h, color='b'):\n",
    "    xs = np.linspace(min(data), max(data), 200)\n",
    "    plt.plot(xs, list(map(lambda x: gaussian_kernel_density(x, data, h), xs)), '-' + color, label='h=' + str(h))\n",
    "    plt.legend()"
   ]
  },
  {
   "cell_type": "code",
   "execution_count": null,
   "metadata": {},
   "outputs": [],
   "source": [
    "display_gaussian_kernel_density_1D(data_1D, 0.01, 'b')\n",
    "display_gaussian_kernel_density_1D(data_1D, 0.05, 'g')\n",
    "display_gaussian_kernel_density_1D(data_1D, 0.2, 'r')"
   ]
  },
  {
   "cell_type": "markdown",
   "metadata": {},
   "source": [
    "## 3) K-Nearest Neigbours classification"
   ]
  },
  {
   "cell_type": "markdown",
   "metadata": {},
   "source": [
    "### 3.1) Generate Data"
   ]
  },
  {
   "cell_type": "code",
   "execution_count": null,
   "metadata": {},
   "outputs": [],
   "source": [
    "iris = datasets.load_iris()\n",
    "iris_x = np.array(iris.data[:, :2])  # we only take the first two features.\n",
    "iris_t = np.array(iris.target)\n",
    "\n",
    "def plot_iris(legend=True, classes=iris_t, target=plt):\n",
    "    scatter = target.scatter(iris_x[:, 0], iris_x[:, 1], c=classes, alpha=0.7, cmap='rainbow', edgecolor='none')\n",
    "    if legend:\n",
    "        legend = target.legend(*scatter.legend_elements(), loc=\"upper left\", title=\"Classes\")\n",
    "        return (scatter, legend)\n",
    "    return (scatter, )\n",
    "\n",
    "plot_iris()"
   ]
  },
  {
   "cell_type": "markdown",
   "metadata": {},
   "source": [
    "### 3.2) Classification function"
   ]
  },
  {
   "cell_type": "markdown",
   "metadata": {},
   "source": [
    "`k_nearest_classification` takes any point `x`, data point positions `data_x`, their classes `data_t`, amount of neighbours `k` and returns class for the point `x`"
   ]
  },
  {
   "cell_type": "code",
   "execution_count": null,
   "metadata": {},
   "outputs": [],
   "source": [
    "def k_nearest_classification(x, data_x, data_t, k):\n",
    "    pass"
   ]
  },
  {
   "cell_type": "markdown",
   "metadata": {},
   "source": [
    "### 3.3) Display results"
   ]
  },
  {
   "cell_type": "code",
   "execution_count": null,
   "metadata": {},
   "outputs": [],
   "source": [
    "def plot_mesh(pred_fn, n_class=3, x_min=4, x_max=8, y_min=2, y_max=4.5, target=plt):\n",
    "    h = 0.1  # step size in the mesh\n",
    "    xx, yy = np.meshgrid(np.arange(x_min, x_max, h), np.arange(y_min, y_max, h))\n",
    "    Z = np.array(list(map(lambda x: pred_fn(np.array(x)), np.c_[xx.ravel(), yy.ravel()])))\n",
    "    Z = Z.reshape(xx.shape)\n",
    "    cs = target.contourf(xx, yy, Z, alpha = 0.1, cmap=plt.cm.get_cmap('rainbow', n_class))\n",
    "    target.axis('tight')\n",
    "    if hasattr(target, 'xlim'):\n",
    "        target.xlim(x_min, x_max)\n",
    "        target.ylim(y_min, y_max)"
   ]
  },
  {
   "cell_type": "code",
   "execution_count": null,
   "metadata": {},
   "outputs": [],
   "source": [
    "plot_iris(False)\n",
    "plot_mesh(lambda x: k_nearest_classification(x, iris_x, iris_t, 1))\n",
    "plt.legend([], loc=\"upper left\", title=\"K=1\")"
   ]
  },
  {
   "cell_type": "code",
   "execution_count": null,
   "metadata": {},
   "outputs": [],
   "source": [
    "plot_iris(False)\n",
    "plot_mesh(lambda x: k_nearest_classification(x, iris_x, iris_t, 4))\n",
    "plt.legend([], loc=\"upper left\", title=\"K=4\")"
   ]
  },
  {
   "cell_type": "code",
   "execution_count": null,
   "metadata": {},
   "outputs": [],
   "source": [
    "plot_iris(False)\n",
    "plot_mesh(lambda x: k_nearest_classification(x, iris_x, iris_t, 8))\n",
    "plt.legend([], loc=\"upper left\", title=\"K=8\")"
   ]
  },
  {
   "cell_type": "markdown",
   "metadata": {},
   "source": [
    "## 4) K-Means clustering"
   ]
  },
  {
   "cell_type": "markdown",
   "metadata": {},
   "source": [
    "`k_means_step` takes initial means `mus_0`, data points `data_x` and returns new means `mus` and `classes`"
   ]
  },
  {
   "cell_type": "code",
   "execution_count": null,
   "metadata": {},
   "outputs": [],
   "source": [
    "def k_means_step(mus_0, data_x):\n",
    "    pass"
   ]
  },
  {
   "cell_type": "markdown",
   "metadata": {},
   "source": [
    "`distortion_measure` takes means `mus`, `classes`, data points `data_x` and returns distortion of this classification"
   ]
  },
  {
   "cell_type": "code",
   "execution_count": null,
   "metadata": {},
   "outputs": [],
   "source": [
    "def distortion_measure(mus, classes, data_x):\n",
    "    \n",
    "    result = 0\n",
    "    \n",
    "    for i, c in enumerate(classes):\n",
    "        \n",
    "        x = data_x[i]\n",
    "        mu = mus[c]\n",
    "        distance = np.dot(np.array(mu) - np.array(x), np.array(mu) - np.array(x))\n",
    "        result += distance\n",
    "    \n",
    "    return result"
   ]
  },
  {
   "cell_type": "markdown",
   "metadata": {},
   "source": [
    "`optimize_k_means` takes initial means `mus_0`, data points `data_x` and callback `on_step`\n",
    "\n",
    "`on_step` is a function that takes current `mus` and `classes` and should be called each step "
   ]
  },
  {
   "cell_type": "code",
   "execution_count": null,
   "metadata": {},
   "outputs": [],
   "source": [
    "def optimize_k_means(mus_0, data_x, on_step):\n",
    "    pass"
   ]
  },
  {
   "cell_type": "markdown",
   "metadata": {},
   "source": [
    "### 4.1) Display results"
   ]
  },
  {
   "cell_type": "code",
   "execution_count": null,
   "metadata": {},
   "outputs": [],
   "source": [
    "def plot_k_means(mus, classes, target=plt):\n",
    "    plot = plot_iris(classes=classes, target=target)\n",
    "    scatter = target.scatter(mus[:, 0], mus[:, 1], c=[0, 1, 2], cmap='rainbow', marker='X', s=300, edgecolors='black')\n",
    "    return (*plot, scatter)"
   ]
  },
  {
   "cell_type": "code",
   "execution_count": null,
   "metadata": {},
   "outputs": [],
   "source": [
    "k = 3\n",
    "mus_0 = iris_x[:k]\n",
    "\n",
    "all_steps = []\n",
    "\n",
    "optimize_k_means(mus_0, iris_x, lambda mus, classes: all_steps.append((mus, classes)))"
   ]
  },
  {
   "cell_type": "code",
   "execution_count": null,
   "metadata": {},
   "outputs": [],
   "source": [
    "def create_animation(all_steps, data_x):\n",
    "    \n",
    "    distortions = list(map(\n",
    "        lambda a: distortion_measure(a[0], a[1], data_x),\n",
    "        all_steps\n",
    "    ))\n",
    "    \n",
    "    fig, (ax, ax2) = plt.subplots(1, 2, figsize=(15,5))\n",
    "    \n",
    "    def animate(i):\n",
    "        ax.cla()\n",
    "        ax2.cla()\n",
    "        \n",
    "        plot1 = plot_k_means(all_steps[i][0], all_steps[i][1], target=ax)\n",
    "        ax2.plot(list(range(i)), distortions[:i], '-o')\n",
    "        plt.xlabel('Step')\n",
    "        plt.ylabel('Distortion')\n",
    "        return plot1\n",
    "    \n",
    "    anim = FuncAnimation(\n",
    "        fig, animate,\n",
    "        frames=len(all_steps), interval=500, blit=True\n",
    "    )\n",
    "    return HTML(anim.to_html5_video())\n",
    "\n",
    "create_animation(all_steps, iris_x)"
   ]
  }
 ],
 "metadata": {
  "kernelspec": {
   "display_name": "Python 3",
   "language": "python",
   "name": "python3"
  },
  "language_info": {
   "codemirror_mode": {
    "name": "ipython",
    "version": 3
   },
   "file_extension": ".py",
   "mimetype": "text/x-python",
   "name": "python",
   "nbconvert_exporter": "python",
   "pygments_lexer": "ipython3",
   "version": "3.7.9"
  }
 },
 "nbformat": 4,
 "nbformat_minor": 4
}
